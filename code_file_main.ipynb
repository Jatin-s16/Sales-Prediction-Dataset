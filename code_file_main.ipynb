{
 "cells": [
  {
   "cell_type": "markdown",
   "metadata": {},
   "source": [
    "<h1 style=\"color:#1bffcf\">\n",
    "Code file for running the prediction algorithm for various business problems\n",
    "</h1>"
   ]
  },
  {
   "cell_type": "markdown",
   "metadata": {},
   "source": [
    "<h4 style=\"color:#add48a\">\n",
    "First, I will be importing necessary packages and loading the excel data with openpyxl\n",
    "</h4>"
   ]
  },
  {
   "cell_type": "code",
   "execution_count": 1,
   "metadata": {},
   "outputs": [],
   "source": [
    "import pandas as pd\n",
    "import numpy as np\n",
    "import matplotlib.pyplot as plt\n",
    "import seaborn as sns\n",
    "\n",
    "data = pd.read_excel(\"/Users/jatin/Documents/Jatin/DS_Projects/MLResearch/Sales Prediction Dataset/advertising_sales_data.xlsx\")"
   ]
  },
  {
   "cell_type": "markdown",
   "metadata": {},
   "source": [
    "<h4 style=\"color:#add48a\">\n",
    "Getting to know more about the data I have to work with, using info() and head() pandas methods\n",
    "</h4>\n"
   ]
  },
  {
   "cell_type": "code",
   "execution_count": 2,
   "metadata": {},
   "outputs": [
    {
     "name": "stdout",
     "output_type": "stream",
     "text": [
      "<class 'pandas.core.frame.DataFrame'>\n",
      "RangeIndex: 200 entries, 0 to 199\n",
      "Data columns (total 5 columns):\n",
      " #   Column     Non-Null Count  Dtype  \n",
      "---  ------     --------------  -----  \n",
      " 0   Campaign   200 non-null    object \n",
      " 1   TV         200 non-null    float64\n",
      " 2   Radio      198 non-null    float64\n",
      " 3   Newspaper  200 non-null    float64\n",
      " 4   Sales      200 non-null    float64\n",
      "dtypes: float64(4), object(1)\n",
      "memory usage: 7.9+ KB\n",
      "None\n"
     ]
    }
   ],
   "source": [
    "print(data.info())"
   ]
  },
  {
   "cell_type": "code",
   "execution_count": 3,
   "metadata": {},
   "outputs": [
    {
     "name": "stdout",
     "output_type": "stream",
     "text": [
      "  Campaign     TV  Radio  Newspaper  Sales\n",
      "0    camp1  230.1   37.8       69.2   22.1\n",
      "1    camp2   44.5   39.3       45.1   10.4\n",
      "2    camp3   17.2   45.9       69.3   12.0\n",
      "3    camp4  151.5   41.3       58.5   16.5\n",
      "4    camp5  180.8   10.8       58.4   17.9\n"
     ]
    }
   ],
   "source": [
    "print(data.head())"
   ]
  },
  {
   "cell_type": "markdown",
   "metadata": {},
   "source": [
    "<h4 style=\"color:#add48a\">\n",
    "Next looking for descriptive statistics regarding the data with describe() method\n",
    "</h4>\n"
   ]
  },
  {
   "cell_type": "code",
   "execution_count": 4,
   "metadata": {},
   "outputs": [
    {
     "name": "stdout",
     "output_type": "stream",
     "text": [
      "               TV       Radio   Newspaper       Sales\n",
      "count  200.000000  198.000000  200.000000  200.000000\n",
      "mean   147.042500   23.260606   30.554000   15.130500\n",
      "std     85.854236   14.921914   21.778621    5.283892\n",
      "min      0.700000    0.000000    0.300000    1.600000\n",
      "25%     74.375000    9.925000   12.750000   11.000000\n",
      "50%    149.750000   22.400000   25.750000   16.000000\n",
      "75%    218.825000   36.575000   45.100000   19.050000\n",
      "max    296.400000   49.600000  114.000000   27.000000\n"
     ]
    }
   ],
   "source": [
    "print(data.describe())"
   ]
  },
  {
   "cell_type": "markdown",
   "metadata": {},
   "source": [
    "<h4 style=\"color:#add48a\">\n",
    "Data cleaning\n",
    "</h4>"
   ]
  },
  {
   "cell_type": "code",
   "execution_count": 36,
   "metadata": {},
   "outputs": [
    {
     "name": "stdout",
     "output_type": "stream",
     "text": [
      "\n",
      "=== Data Cleaning ===\n",
      "Missing values before cleaning:\n",
      "Campaign     0\n",
      "TV           0\n",
      "Radio        2\n",
      "Newspaper    0\n",
      "Sales        0\n",
      "dtype: int64\n"
     ]
    }
   ],
   "source": [
    "print(\"\\n=== Data Cleaning ===\")\n",
    "print(f\"Missing values before cleaning:\\n{data.isnull().sum()}\")"
   ]
  },
  {
   "cell_type": "markdown",
   "metadata": {},
   "source": [
    "<h4 style=\"color:#add48a\">\n",
    "Drop the categorical 'Campaign' column as it's not needed for analysis\n",
    "</h4>"
   ]
  },
  {
   "cell_type": "code",
   "execution_count": 42,
   "metadata": {},
   "outputs": [],
   "source": [
    "data = data.drop(columns=['Campaign'])"
   ]
  },
  {
   "cell_type": "markdown",
   "metadata": {},
   "source": [
    "<h4 style=\"color:#add48a\">\n",
    "Impute missing values with median\n",
    "</h4>"
   ]
  },
  {
   "cell_type": "code",
   "execution_count": 38,
   "metadata": {},
   "outputs": [
    {
     "name": "stdout",
     "output_type": "stream",
     "text": [
      "\n",
      "Missing values after cleaning:\n",
      "Campaign     0\n",
      "TV           0\n",
      "Radio        0\n",
      "Newspaper    0\n",
      "Sales        0\n",
      "dtype: int64\n"
     ]
    }
   ],
   "source": [
    "from sklearn.impute import SimpleImputer\n",
    "\n",
    "imputer = SimpleImputer(strategy='median')\n",
    "data[['Radio']] = imputer.fit_transform(data[['Radio']])\n",
    "print(f\"\\nMissing values after cleaning:\\n{data.isnull().sum()}\")"
   ]
  },
  {
   "cell_type": "markdown",
   "metadata": {},
   "source": [
    "<h3 style=\"color:#24e1a2\">\n",
    "1. Average amount spent on TV advertising\n",
    "</h3>\n"
   ]
  },
  {
   "cell_type": "code",
   "execution_count": 39,
   "metadata": {},
   "outputs": [
    {
     "name": "stdout",
     "output_type": "stream",
     "text": [
      "1. Average amount spent on TV advertising: $147.04\n"
     ]
    }
   ],
   "source": [
    "avg_tv = data['TV'].mean()\n",
    "print(f\"1. Average amount spent on TV advertising: ${avg_tv:.2f}\")"
   ]
  },
  {
   "cell_type": "markdown",
   "metadata": {},
   "source": [
    "<h3 style=\"color:#24e1a2\">\n",
    "2. Correlation between radio advertising expenditure and product sales\n",
    "</h3>\n"
   ]
  },
  {
   "cell_type": "code",
   "execution_count": 40,
   "metadata": {},
   "outputs": [
    {
     "name": "stdout",
     "output_type": "stream",
     "text": [
      "2. Correlation between Radio ads and Sales: 0.3496\n"
     ]
    }
   ],
   "source": [
    "corr_radio_sales = data['Radio'].corr(data['Sales'])\n",
    "print(f\"2. Correlation between Radio ads and Sales: {corr_radio_sales:.4f}\")"
   ]
  },
  {
   "cell_type": "markdown",
   "metadata": {},
   "source": [
    "<h3 style=\"color:#24e1a2\">\n",
    "3. Advertising medium with highest impact on sales\n",
    "</h3>"
   ]
  },
  {
   "cell_type": "code",
   "execution_count": 43,
   "metadata": {},
   "outputs": [
    {
     "name": "stdout",
     "output_type": "stream",
     "text": [
      "3. Advertising medium with highest impact on sales: TV (correlation: 0.9012)\n"
     ]
    }
   ],
   "source": [
    "correlations = data.corr()['Sales'].drop('Sales')\n",
    "highest_impact = correlations.idxmax()\n",
    "print(f\"3. Advertising medium with highest impact on sales: {highest_impact} (correlation: {correlations.max():.4f})\")"
   ]
  },
  {
   "cell_type": "markdown",
   "metadata": {},
   "source": [
    "<h3 style=\"color:#24e1a2\">\n",
    "4. Linear regression model to predict sales\n",
    "</h3>"
   ]
  },
  {
   "cell_type": "code",
   "execution_count": 46,
   "metadata": {},
   "outputs": [
    {
     "name": "stdout",
     "output_type": "stream",
     "text": [
      "\n",
      "=== Linear Regression Model ===\n",
      "Model Coefficients: [0.05450865 0.10099124 0.00429875]\n",
      "Intercept: 4.72\n",
      "Mean Squared Error: 2.90\n",
      "Root Mean Squared Error: 1.70\n",
      "R-squared Score: 0.9061\n"
     ]
    }
   ],
   "source": [
    "from sklearn.model_selection import train_test_split\n",
    "from sklearn.linear_model import LinearRegression\n",
    "from sklearn.metrics import mean_squared_error, r2_score\n",
    "\n",
    "print(\"\\n=== Linear Regression Model ===\")\n",
    "X = data[['TV', 'Radio', 'Newspaper']]\n",
    "y = data['Sales']\n",
    "\n",
    "X_train, X_test, y_train, y_test = train_test_split(X, y, test_size=0.2, random_state=42)\n",
    "\n",
    "model = LinearRegression()\n",
    "model.fit(X_train, y_train)\n",
    "y_pred = model.predict(X_test)\n",
    "\n",
    "mse = mean_squared_error(y_test, y_pred)\n",
    "rmse = np.sqrt(mse)\n",
    "r2 = r2_score(y_test, y_pred)\n",
    "\n",
    "print(f\"Model Coefficients: {model.coef_}\")\n",
    "print(f\"Intercept: {model.intercept_:.2f}\")\n",
    "print(f\"Mean Squared Error: {mse:.2f}\")\n",
    "print(f\"Root Mean Squared Error: {rmse:.2f}\")\n",
    "print(f\"R-squared Score: {r2:.4f}\")"
   ]
  },
  {
   "cell_type": "markdown",
   "metadata": {},
   "source": [
    "<h4 style=\"color:#add48a\">\n",
    "Actual vs Predicted Sales Visualisation\n",
    "</h4>"
   ]
  },
  {
   "cell_type": "code",
   "execution_count": 29,
   "metadata": {},
   "outputs": [
    {
     "data": {
      "text/plain": [
       "Text(0.5, 1.0, 'Actual vs Predicted Sales')"
      ]
     },
     "execution_count": 29,
     "metadata": {},
     "output_type": "execute_result"
    },
    {
     "data": {
      "image/png": "[encoded data removed]",
      "text/plain": [
       "<Figure size 1200x500 with 1 Axes>"
      ]
     },
     "metadata": {},
     "output_type": "display_data"
    }
   ],
   "source": [
    "plt.figure(figsize=(12, 5))\n",
    "plt.subplot(1, 2, 1)\n",
    "plt.scatter(y_test, y_pred, color='#1bffcf', edgecolors='k', alpha=0.7)\n",
    "plt.plot([y_test.min(), y_test.max()], [y_test.min(), y_test.max()], 'k--', lw=2)\n",
    "plt.xlabel(\"Actual Sales\")\n",
    "plt.ylabel(\"Predicted Sales\")\n",
    "plt.title(\"Actual vs Predicted Sales\")"
   ]
  },
  {
   "cell_type": "markdown",
   "metadata": {},
   "source": [
    "<h3 style=\"color:#24e1a2\">\n",
    "5. Predict sales for given expenditures\n",
    "</h3>"
   ]
  },
  {
   "cell_type": "code",
   "execution_count": 47,
   "metadata": {},
   "outputs": [
    {
     "name": "stdout",
     "output_type": "stream",
     "text": [
      "Predicted Sales for TV=$200, Radio=$40, Newspaper=$50: 19.8715686960658\n"
     ]
    },
    {
     "name": "stderr",
     "output_type": "stream",
     "text": [
      "/Library/Frameworks/Python.framework/Versions/3.12/lib/python3.12/site-packages/sklearn/utils/validation.py:2739: UserWarning: X does not have valid feature names, but LinearRegression was fitted with feature names\n",
      "  warnings.warn(\n"
     ]
    }
   ],
   "source": [
    "test_input = np.array([[200, 40, 50]])\n",
    "predicted_sales = model.predict(test_input)[0]\n",
    "print(f\"Predicted Sales for TV=$200, Radio=$40, Newspaper=$50: {predicted_sales}\")"
   ]
  },
  {
   "cell_type": "markdown",
   "metadata": {},
   "source": [
    "<h3 style=\"color:#24e1a2\">\n",
    "6. Effect of normalization\n",
    "</h3>"
   ]
  },
  {
   "cell_type": "code",
   "execution_count": 48,
   "metadata": {},
   "outputs": [
    {
     "name": "stdout",
     "output_type": "stream",
     "text": [
      "\n",
      "=== Effect of Normalization ===\n",
      "With normalization - MSE: 2.90, R-squared: 0.9061\n",
      "Note: Normalization doesn't affect linear regression performance, but helps with interpretation\n"
     ]
    }
   ],
   "source": [
    "from sklearn.preprocessing import StandardScaler\n",
    "\n",
    "print(\"\\n=== Effect of Normalization ===\")\n",
    "scaler = StandardScaler()\n",
    "X_scaled = scaler.fit_transform(X)\n",
    "X_train_scaled, X_test_scaled, y_train, y_test = train_test_split(X_scaled, y, test_size=0.2, random_state=42)\n",
    "\n",
    "model_scaled = LinearRegression()\n",
    "model_scaled.fit(X_train_scaled, y_train)\n",
    "y_pred_scaled = model_scaled.predict(X_test_scaled)\n",
    "\n",
    "mse_scaled = mean_squared_error(y_test, y_pred_scaled)\n",
    "r2_scaled = r2_score(y_test, y_pred_scaled)\n",
    "\n",
    "print(f\"With normalization - MSE: {mse_scaled:.2f}, R-squared: {r2_scaled:.4f}\")\n",
    "print(\"Note: Normalization doesn't affect linear regression performance, but helps with interpretation\")"
   ]
  },
  {
   "cell_type": "markdown",
   "metadata": {},
   "source": [
    "<h3 style=\"color:#24e1a2\">\n",
    "7. Impact of using only Radio and Newspaper as predictors\n",
    "</h3>"
   ]
  },
  {
   "cell_type": "code",
   "execution_count": 49,
   "metadata": {},
   "outputs": [
    {
     "name": "stdout",
     "output_type": "stream",
     "text": [
      "\n",
      "=== Impact of Reduced Predictors ===\n",
      "Using only Radio & Newspaper - MSE: 27.51, R-squared: 0.1097\n",
      "Interpretation: TV advertising has significant impact on sales prediction\n"
     ]
    }
   ],
   "source": [
    "print(\"\\n=== Impact of Reduced Predictors ===\")\n",
    "X_reduced = data[['Radio', 'Newspaper']]\n",
    "X_train_red, X_test_red, y_train, y_test = train_test_split(X_reduced, y, test_size=0.2, random_state=42)\n",
    "\n",
    "model_reduced = LinearRegression()\n",
    "model_reduced.fit(X_train_red, y_train)\n",
    "y_pred_red = model_reduced.predict(X_test_red)\n",
    "\n",
    "mse_red = mean_squared_error(y_test, y_pred_red)\n",
    "r2_red = r2_score(y_test, y_pred_red)\n",
    "\n",
    "print(f\"Using only Radio & Newspaper - MSE: {mse_red:.2f}, R-squared: {r2_red:.4f}\")\n",
    "print(\"Interpretation: TV advertising has significant impact on sales prediction\")"
   ]
  }
 ],
 "metadata": {
  "kernelspec": {
   "display_name": "Python 3",
   "language": "python",
   "name": "python3"
  },
  "language_info": {
   "codemirror_mode": {
    "name": "ipython",
    "version": 3
   },
   "file_extension": ".py",
   "mimetype": "text/x-python",
   "name": "python",
   "nbconvert_exporter": "python",
   "pygments_lexer": "ipython3",
   "version": "3.12.1"
  }
 },
 "nbformat": 4,
 "nbformat_minor": 2
}
