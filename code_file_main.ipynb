{
 "cells": [
  {
   "cell_type": "markdown",
   "metadata": {},
   "source": [
    "<h1 style=\"color:#1bffcf\">\n",
    "Code file for running the prediction algorithm for various business problems\n",
    "</h1>"
   ]
  },
  {
   "cell_type": "markdown",
   "metadata": {},
   "source": [
    "<h4 style=\"color:#add48a\">\n",
    "First, I will be importing necessary packages and loading the excel data with openpyxl\n",
    "</h4>"
   ]
  },
  {
   "cell_type": "code",
   "execution_count": 1,
   "metadata": {},
   "outputs": [],
   "source": [
    "import pandas as pd\n",
    "import numpy as np\n",
    "import matplotlib.pyplot as plt\n",
    "import seaborn as sns\n",
    "\n",
    "data = pd.read_excel(\"/Users/jatin/Documents/Jatin/DS_Projects/MLResearch/Sales Prediction Dataset/advertising_sales_data.xlsx\")"
   ]
  },
  {
   "cell_type": "markdown",
   "metadata": {},
   "source": [
    "<h4 style=\"color:#add48a\">\n",
    "Getting to know more about the data I have to work with, using info() and head() pandas methods\n",
    "</h4>\n"
   ]
  },
  {
   "cell_type": "code",
   "execution_count": 2,
   "metadata": {},
   "outputs": [
    {
     "name": "stdout",
     "output_type": "stream",
     "text": [
      "<class 'pandas.core.frame.DataFrame'>\n",
      "RangeIndex: 200 entries, 0 to 199\n",
      "Data columns (total 5 columns):\n",
      " #   Column     Non-Null Count  Dtype  \n",
      "---  ------     --------------  -----  \n",
      " 0   Campaign   200 non-null    object \n",
      " 1   TV         200 non-null    float64\n",
      " 2   Radio      198 non-null    float64\n",
      " 3   Newspaper  200 non-null    float64\n",
      " 4   Sales      200 non-null    float64\n",
      "dtypes: float64(4), object(1)\n",
      "memory usage: 7.9+ KB\n",
      "None\n"
     ]
    }
   ],
   "source": [
    "print(data.info())"
   ]
  },
  {
   "cell_type": "code",
   "execution_count": 3,
   "metadata": {},
   "outputs": [
    {
     "name": "stdout",
     "output_type": "stream",
     "text": [
      "  Campaign     TV  Radio  Newspaper  Sales\n",
      "0    camp1  230.1   37.8       69.2   22.1\n",
      "1    camp2   44.5   39.3       45.1   10.4\n",
      "2    camp3   17.2   45.9       69.3   12.0\n",
      "3    camp4  151.5   41.3       58.5   16.5\n",
      "4    camp5  180.8   10.8       58.4   17.9\n"
     ]
    }
   ],
   "source": [
    "print(data.head())"
   ]
  },
  {
   "cell_type": "markdown",
   "metadata": {},
   "source": [
    "<h4 style=\"color:#add48a\">\n",
    "Next looking for descriptive statistics regarding the data with describe() method\n",
    "</h4>\n"
   ]
  },
  {
   "cell_type": "code",
   "execution_count": 4,
   "metadata": {},
   "outputs": [
    {
     "name": "stdout",
     "output_type": "stream",
     "text": [
      "               TV       Radio   Newspaper       Sales\n",
      "count  200.000000  198.000000  200.000000  200.000000\n",
      "mean   147.042500   23.260606   30.554000   15.130500\n",
      "std     85.854236   14.921914   21.778621    5.283892\n",
      "min      0.700000    0.000000    0.300000    1.600000\n",
      "25%     74.375000    9.925000   12.750000   11.000000\n",
      "50%    149.750000   22.400000   25.750000   16.000000\n",
      "75%    218.825000   36.575000   45.100000   19.050000\n",
      "max    296.400000   49.600000  114.000000   27.000000\n"
     ]
    }
   ],
   "source": [
    "print(data.describe())"
   ]
  },
  {
   "cell_type": "markdown",
   "metadata": {},
   "source": [
    "<h4 style=\"color:#add48a\">\n",
    "Remove the categorical campaign column\n",
    "</h4>"
   ]
  },
  {
   "cell_type": "code",
   "execution_count": 10,
   "metadata": {},
   "outputs": [],
   "source": [
    "data_numeric = data.drop(columns=['Campaign'])"
   ]
  },
  {
   "cell_type": "markdown",
   "metadata": {},
   "source": [
    "<h4 style=\"color:#add48a\">\n",
    "Checking for NA values, and their count\n",
    "</h4>"
   ]
  },
  {
   "cell_type": "code",
   "execution_count": 15,
   "metadata": {},
   "outputs": [
    {
     "name": "stdout",
     "output_type": "stream",
     "text": [
      "Total missing values: 2 out of 800 total values\n"
     ]
    }
   ],
   "source": [
    "missing_values = data_numeric.isna().sum().sum()\n",
    "total_values = data_numeric.size\n",
    "print(f\"Total missing values: {missing_values} out of {total_values} total values\")"
   ]
  },
  {
   "cell_type": "markdown",
   "metadata": {},
   "source": [
    "<h4 style=\"color:#add48a\">\n",
    "Since there are only 2 missing values out of 800, we can remove those entries\n",
    "</h4>"
   ]
  },
  {
   "cell_type": "code",
   "execution_count": 16,
   "metadata": {},
   "outputs": [],
   "source": [
    "data_numeric = data_numeric.dropna()"
   ]
  },
  {
   "cell_type": "markdown",
   "metadata": {},
   "source": [
    "<h3 style=\"color:#24e1a2\">\n",
    "1. Average amount spent on TV advertising\n",
    "</h3>\n"
   ]
  },
  {
   "cell_type": "code",
   "execution_count": 5,
   "metadata": {},
   "outputs": [
    {
     "name": "stdout",
     "output_type": "stream",
     "text": [
      "Average amount spent on TV advertising: 147.0425\n"
     ]
    }
   ],
   "source": [
    "average_tv_ad_spent = data['TV'].mean()\n",
    "print(f\"Average amount spent on TV advertising: {average_tv_ad_spent}\")"
   ]
  },
  {
   "cell_type": "markdown",
   "metadata": {},
   "source": [
    "<h3 style=\"color:#24e1a2\">\n",
    "2. Correlation between radio advertising expenditure and product sales\n",
    "</h3>\n"
   ]
  },
  {
   "cell_type": "code",
   "execution_count": 6,
   "metadata": {},
   "outputs": [
    {
     "name": "stdout",
     "output_type": "stream",
     "text": [
      "Correlation between Radio advertising expenditure and Sales: 0.34972771292078386\n"
     ]
    }
   ],
   "source": [
    "correlation_radio_sales = data[['Radio', 'Sales']].corr().iloc[0,1]\n",
    "print(f\"Correlation between Radio advertising expenditure and Sales: {correlation_radio_sales}\")"
   ]
  },
  {
   "cell_type": "markdown",
   "metadata": {},
   "source": [
    "<h3 style=\"color:#24e1a2\">\n",
    "3. Advertising medium with highest impact on sales\n",
    "</h3>"
   ]
  },
  {
   "cell_type": "code",
   "execution_count": 11,
   "metadata": {},
   "outputs": [
    {
     "name": "stdout",
     "output_type": "stream",
     "text": [
      "Advertising medium with highest impact on sales: TV\n"
     ]
    }
   ],
   "source": [
    "correlations = data_numeric.corr()['Sales'].drop('Sales')\n",
    "highest_impact_ad = correlations.idxmax()\n",
    "print(f\"Advertising medium with highest impact on sales: {highest_impact_ad}\")\n"
   ]
  },
  {
   "cell_type": "markdown",
   "metadata": {},
   "source": [
    "<h3 style=\"color:#24e1a2\">\n",
    "4. Linear regression model to predict sales\n",
    "</h3>"
   ]
  },
  {
   "cell_type": "code",
   "execution_count": 17,
   "metadata": {},
   "outputs": [],
   "source": [
    "from sklearn.model_selection import train_test_split\n",
    "from sklearn.linear_model import LinearRegression\n",
    "\n",
    "X = data_numeric[['TV', 'Radio', 'Newspaper']]\n",
    "y = data_numeric['Sales']\n",
    "X_train, X_test, y_train, y_test = train_test_split(X, y, test_size=0.2, random_state=42)\n",
    "\n",
    "model = LinearRegression()\n",
    "model.fit(X_train, y_train)"
   ]
  },
  {
   "cell_type": "markdown",
   "metadata": {},
   "source": [
    "<h4 style=\"color:#add48a\">\n",
    "Running model prediction code\n",
    "</h4>"
   ]
  },
  {
   "cell_type": "code",
   "execution_count": null,
   "metadata": {},
   "outputs": [],
   "source": [
    "y_pred = model.predict(X_test)"
   ]
  },
  {
   "cell_type": "markdown",
   "metadata": {},
   "source": [
    "<h4 style=\"color:#add48a\">\n",
    "Actual vs Predicted Sales Visualisation\n",
    "</h4>"
   ]
  },
  {
   "cell_type": "code",
   "execution_count": 18,
   "metadata": {},
   "outputs": [
    {
     "data": {
      "image/png": "[encoded data removed]",
      "text/plain": [
       "<Figure size 1000x600 with 1 Axes>"
      ]
     },
     "metadata": {},
     "output_type": "display_data"
    }
   ],
   "source": [
    "plt.figure(figsize=(10,6))\n",
    "plt.scatter(y_test, y_pred, color='blue', edgecolors='k')\n",
    "plt.xlabel(\"Actual Sales\")\n",
    "plt.ylabel(\"Predicted Sales\")\n",
    "plt.title(\"Actual vs Predicted Sales\")\n",
    "plt.show()"
   ]
  },
  {
   "cell_type": "markdown",
   "metadata": {},
   "source": [
    "<h4 style=\"color:#add48a\">\n",
    "Model performance score\n",
    "</h4>"
   ]
  },
  {
   "cell_type": "code",
   "execution_count": 19,
   "metadata": {},
   "outputs": [
    {
     "name": "stdout",
     "output_type": "stream",
     "text": [
      "Mean Squared Error: 2.018623897648978\n",
      "R-squared Score: 0.89910282638328\n"
     ]
    }
   ],
   "source": [
    "from sklearn.metrics import mean_squared_error, r2_score\n",
    "\n",
    "mse = mean_squared_error(y_test, y_pred)\n",
    "r2 = r2_score(y_test, y_pred)\n",
    "print(f\"Mean Squared Error: {mse}\")\n",
    "print(f\"R-squared Score: {r2}\")"
   ]
  },
  {
   "cell_type": "markdown",
   "metadata": {},
   "source": [
    "<h3 style=\"color:#24e1a2\">\n",
    "5. Predict sales for given expenditures\n",
    "</h3>"
   ]
  },
  {
   "cell_type": "code",
   "execution_count": 20,
   "metadata": {},
   "outputs": [
    {
     "name": "stdout",
     "output_type": "stream",
     "text": [
      "Predicted Sales for TV=$200, Radio=$40, Newspaper=$50: 19.819584098134875\n"
     ]
    },
    {
     "name": "stderr",
     "output_type": "stream",
     "text": [
      "/Library/Frameworks/Python.framework/Versions/3.12/lib/python3.12/site-packages/sklearn/utils/validation.py:2739: UserWarning: X does not have valid feature names, but LinearRegression was fitted with feature names\n",
      "  warnings.warn(\n"
     ]
    }
   ],
   "source": [
    "test_input = np.array([[200, 40, 50]])\n",
    "predicted_sales = model.predict(test_input)[0]\n",
    "print(f\"Predicted Sales for TV=$200, Radio=$40, Newspaper=$50: {predicted_sales}\")"
   ]
  },
  {
   "cell_type": "markdown",
   "metadata": {},
   "source": [
    "<h3 style=\"color:#24e1a2\">\n",
    "6. Effect of normalization\n",
    "</h3>"
   ]
  },
  {
   "cell_type": "code",
   "execution_count": 21,
   "metadata": {},
   "outputs": [],
   "source": [
    "from sklearn.preprocessing import StandardScaler\n",
    "\n",
    "scaler = StandardScaler()\n",
    "X_scaled = scaler.fit_transform(X)\n",
    "X_train_scaled, X_test_scaled, y_train, y_test = train_test_split(X_scaled, y, test_size=0.2, random_state=42)"
   ]
  },
  {
   "cell_type": "markdown",
   "metadata": {},
   "source": [
    "<h3 style=\"color:#24e1a2\">\n",
    "7. Impact of using only Radio and Newspaper as predictors\n",
    "</h3>"
   ]
  },
  {
   "cell_type": "code",
   "execution_count": 22,
   "metadata": {},
   "outputs": [
    {
     "name": "stdout",
     "output_type": "stream",
     "text": [
      "MSE using only Radio & Newspaper: 21.045362133902053\n",
      "R-squared Score using only Radio & Newspaper: -0.05191341464060373\n"
     ]
    }
   ],
   "source": [
    "X_reduced = data_numeric[['Radio', 'Newspaper']]\n",
    "X_train_red, X_test_red, y_train, y_test = train_test_split(X_reduced, y, test_size=0.2, random_state=42)\n",
    "\n",
    "model_reduced = LinearRegression()\n",
    "model_reduced.fit(X_train_red, y_train)\n",
    "y_pred_reduced = model_reduced.predict(X_test_red)\n",
    "\n",
    "mse_reduced = mean_squared_error(y_test, y_pred_reduced)\n",
    "r2_reduced = r2_score(y_test, y_pred_reduced)\n",
    "print(f\"MSE using only Radio & Newspaper: {mse_reduced}\")\n",
    "print(f\"R-squared Score using only Radio & Newspaper: {r2_reduced}\")"
   ]
  }
 ],
 "metadata": {
  "kernelspec": {
   "display_name": "Python 3",
   "language": "python",
   "name": "python3"
  },
  "language_info": {
   "codemirror_mode": {
    "name": "ipython",
    "version": 3
   },
   "file_extension": ".py",
   "mimetype": "text/x-python",
   "name": "python",
   "nbconvert_exporter": "python",
   "pygments_lexer": "ipython3",
   "version": "3.12.1"
  }
 },
 "nbformat": 4,
 "nbformat_minor": 2
}
